{
 "cells": [
  {
   "cell_type": "code",
   "execution_count": null,
   "id": "4e2f7744-820e-4cb4-ba75-f92bba8c0128",
   "metadata": {},
   "outputs": [],
   "source": [
    "# project part 1 - data exploration\n",
    "# sections:\n",
    "# 1. data profiling\n",
    "# 2. data cleaning\n",
    "# 3. data visualization"
   ]
  },
  {
   "cell_type": "markdown",
   "id": "ec3aaa3d-9878-432d-a733-1208c5d3634d",
   "metadata": {},
   "source": [
    "***"
   ]
  },
  {
   "cell_type": "code",
   "execution_count": null,
   "id": "0ab529ed-28b0-4766-a226-3184cdf7431b",
   "metadata": {},
   "outputs": [],
   "source": [
    "# import libraries\n",
    "\n",
    "# for data manipulation\n",
    "import math\n",
    "import pandas as pd\n",
    "pd.set_option('display.max_columns', None)\n",
    "import numpy as np\n",
    "import datetime as dt\n",
    "from scipy import stats as st\n",
    "\n",
    "# for data visualization\n",
    "import matplotlib.pyplot as plt\n",
    "import seaborn as sns"
   ]
  },
  {
   "cell_type": "code",
   "execution_count": null,
   "id": "89d13308-0678-4668-9f99-c003d4aba686",
   "metadata": {},
   "outputs": [],
   "source": [
    "# import data\n",
    "df = pd.read_excel(\"data/credit card_defaults.xlsx\")"
   ]
  },
  {
   "cell_type": "markdown",
   "id": "8ae47b87-e54f-4b87-b956-392c2e74ff0c",
   "metadata": {},
   "source": [
    "***"
   ]
  },
  {
   "cell_type": "code",
   "execution_count": null,
   "id": "f3ee934d-9707-4bfc-8d7d-da85d5ca98ad",
   "metadata": {},
   "outputs": [],
   "source": [
    "# data profiling"
   ]
  },
  {
   "cell_type": "code",
   "execution_count": null,
   "id": "012b6f49-eece-4cf7-9544-ce9286799225",
   "metadata": {},
   "outputs": [],
   "source": [
    "# preview data - head\n",
    "df.head()"
   ]
  },
  {
   "cell_type": "code",
   "execution_count": null,
   "id": "16442e0d-6334-4469-a3af-9aaf3d5bf11e",
   "metadata": {},
   "outputs": [],
   "source": [
    "# preview data - tail\n",
    "df.tail()"
   ]
  },
  {
   "cell_type": "code",
   "execution_count": null,
   "id": "f5c0d296-0b64-4150-be9d-bc09a40f30bb",
   "metadata": {},
   "outputs": [],
   "source": [
    "# data shape\n",
    "df.shape"
   ]
  },
  {
   "cell_type": "code",
   "execution_count": null,
   "id": "f558d3a8-1a87-40c3-aa75-123f518b96e8",
   "metadata": {},
   "outputs": [],
   "source": [
    "# data info\n",
    "df.info()"
   ]
  },
  {
   "cell_type": "code",
   "execution_count": null,
   "id": "1893c8e6-1a08-4871-958e-e90b4006c8de",
   "metadata": {},
   "outputs": [],
   "source": [
    "# data describe\n",
    "df.describe(include='all').T"
   ]
  },
  {
   "cell_type": "markdown",
   "id": "37ccf9d2-e2c7-4a8b-8e1e-5b0713b49079",
   "metadata": {},
   "source": [
    "***"
   ]
  },
  {
   "cell_type": "code",
   "execution_count": null,
   "id": "fa417084-72a7-4fe9-bd44-517dd941a134",
   "metadata": {},
   "outputs": [],
   "source": [
    "# data cleaning"
   ]
  },
  {
   "cell_type": "code",
   "execution_count": null,
   "id": "df063a64-2249-4d9e-8c39-a74192804471",
   "metadata": {},
   "outputs": [],
   "source": [
    "# check missing values\n",
    "df.isna().sum()"
   ]
  },
  {
   "cell_type": "code",
   "execution_count": null,
   "id": "431c3f61-0eaa-4b3c-85b5-59bc4633e651",
   "metadata": {},
   "outputs": [],
   "source": [
    "# check duplicate values\n",
    "df.duplicated().sum()"
   ]
  },
  {
   "cell_type": "code",
   "execution_count": null,
   "id": "32df41ae-0ae1-482e-abc4-f468bc81553c",
   "metadata": {},
   "outputs": [],
   "source": [
    "# rename `default payment this month` to `RESPONSE`\n",
    "df = df.rename(columns={'default payment this month':'RESPONSE'})\n",
    "\n",
    "# check changes made\n",
    "df.columns"
   ]
  },
  {
   "cell_type": "code",
   "execution_count": null,
   "id": "4e321cb7-f117-4978-8eff-08192ffe5167",
   "metadata": {},
   "outputs": [],
   "source": [
    "# squeeze 'others' into 4/5/6 to reduce variance in EDUCATION column - reduce underfitting\n",
    "df['EDUCATION'] = df['EDUCATION'].replace([0, 4, 5, 6], 4)"
   ]
  },
  {
   "cell_type": "code",
   "execution_count": null,
   "id": "2ca66927-a5b8-4a41-b4bd-bbedde42a72d",
   "metadata": {},
   "outputs": [],
   "source": [
    "# create new column for visualization \n",
    "df['AGEBIN'] = pd.cut(df['AGE'],[20,25, 30, 35, 40, 50, 60, 80])\n",
    "df['AGEBIN'] = df['AGEBIN'].astype('str')\n",
    "df['AGEBIN'] = df['AGEBIN'].replace({'(20, 25]':'21-25',\n",
    "                                     '(25, 30]':'26-30',\n",
    "                                     '(30, 35]':'31-35',\n",
    "                                     '(35, 40]':'36-40',\n",
    "                                     '(40, 50]':'41-50',\n",
    "                                     '(50, 60]':'51-60',\n",
    "                                     '(60, 80]':'61-80'\n",
    "                                    })\n",
    "agebin_order = ['21-25', '26-30', '31-35', '36-40', '41-50', '51-60', '61-80']"
   ]
  },
  {
   "cell_type": "code",
   "execution_count": null,
   "id": "036c4101-ed0c-4132-a7c2-e7b8d94bc33c",
   "metadata": {},
   "outputs": [],
   "source": [
    "# check for inactive customers\n",
    "# we shouldn't use this data because there's nothing to predict on\n",
    "inactive = df[(df['BILL_AMT1']==0) & (df['BILL_AMT2']==0) & (df['BILL_AMT3']==0) & \n",
    "              (df['BILL_AMT4']==0) & (df['BILL_AMT5']==0) &(df['BILL_AMT6']==0)]\n",
    "inactive.shape\n",
    "# drop index of inactive customers\n",
    "df = df.drop(inactive.index).reset_index().drop(columns='index')\n",
    "df"
   ]
  },
  {
   "cell_type": "markdown",
   "id": "637d3222-4897-4c16-8eed-fb1ad7768a60",
   "metadata": {},
   "source": [
    "***"
   ]
  },
  {
   "cell_type": "code",
   "execution_count": null,
   "id": "cb4621e4-0826-4bde-8336-75cab8a7e7f4",
   "metadata": {},
   "outputs": [],
   "source": [
    "# data exploration - categorical variables"
   ]
  },
  {
   "cell_type": "code",
   "execution_count": null,
   "id": "ec542056-cd30-479c-870c-0b7960ecf55a",
   "metadata": {},
   "outputs": [],
   "source": [
    "# describe data - RESPONSE\n",
    "df['RESPONSE'].value_counts(normalize=True)"
   ]
  },
  {
   "cell_type": "code",
   "execution_count": null,
   "id": "a563a6fb-0f81-4814-9607-d007dfa3c580",
   "metadata": {},
   "outputs": [],
   "source": [
    "# describe data - SEX\n",
    "df['SEX'].value_counts()"
   ]
  },
  {
   "cell_type": "code",
   "execution_count": null,
   "id": "c416fc27-a798-42f9-916a-dbf76f79f6ad",
   "metadata": {},
   "outputs": [],
   "source": [
    "# barplot - SEX\n",
    "plt.figure(figsize=(15,4))\n",
    "\n",
    "ax = sns.countplot(data = df, x = 'SEX', hue=\"RESPONSE\")\n",
    "\n",
    "plt.xlabel(\"Sex\")\n",
    "plt.ylabel(\"# of Clients\")\n",
    "plt.ylim(0,20000)\n",
    "plt.xticks([0,1],['Male', 'Female'])\n",
    "plt.show()"
   ]
  },
  {
   "cell_type": "code",
   "execution_count": null,
   "id": "049a8720-b196-4661-bd01-b3e8d2e6091e",
   "metadata": {},
   "outputs": [],
   "source": [
    "# describe data - EDUCATION\n",
    "df['EDUCATION'].value_counts()"
   ]
  },
  {
   "cell_type": "code",
   "execution_count": null,
   "id": "be5f23c2-8eb7-4d68-8644-2077063e19c7",
   "metadata": {},
   "outputs": [],
   "source": [
    "# barplot - EDUCATION\n",
    "plt.figure(figsize=(15,4))\n",
    "ax = sns.countplot(data=df, x='EDUCATION', hue=\"RESPONSE\")\n",
    "\n",
    "plt.xlabel(\"Education\")\n",
    "plt.ylabel(\"# of Clients\")\n",
    "plt.ylim(0,12000)\n",
    "plt.xticks([0,1,2,3],['Grad School','University','High School','Others'])\n",
    "plt.show()"
   ]
  },
  {
   "cell_type": "code",
   "execution_count": null,
   "id": "70f45596-2026-47b8-99bc-539cc48c3cf7",
   "metadata": {},
   "outputs": [],
   "source": [
    "# describe data - MARRIAGE\n",
    "df['MARRIAGE'].value_counts()"
   ]
  },
  {
   "cell_type": "code",
   "execution_count": null,
   "id": "c5417100-dce8-4e68-80b5-34159b0b19f8",
   "metadata": {},
   "outputs": [],
   "source": [
    "# barplot - MARRIAGE\n",
    "plt.figure(figsize=(15,4))\n",
    "ax = sns.countplot(data=df, x='MARRIAGE', hue=\"RESPONSE\")\n",
    "\n",
    "plt.xlabel(\"Marital Status\")\n",
    "plt.ylabel(\"# of Clients\")\n",
    "plt.ylim(0,15000)\n",
    "plt.xticks([0,1,2,3],['Unknown', 'Married', 'Single', 'Divorce'])\n",
    "plt.show()"
   ]
  },
  {
   "cell_type": "markdown",
   "id": "221f08d3-25a5-4168-95b5-ee09eea5140c",
   "metadata": {},
   "source": [
    "***"
   ]
  },
  {
   "cell_type": "code",
   "execution_count": null,
   "id": "60e92ca5-bf43-40e9-b164-d12d6729f915",
   "metadata": {},
   "outputs": [],
   "source": [
    "# data exploration - numerical variables"
   ]
  },
  {
   "cell_type": "code",
   "execution_count": null,
   "id": "2c52108b-fc2c-4611-a5d6-7312fcbcb53b",
   "metadata": {},
   "outputs": [],
   "source": [
    "# describe data - AGE\n",
    "df[['AGE']].describe().T"
   ]
  },
  {
   "cell_type": "code",
   "execution_count": null,
   "id": "e3c74dc8-1cb9-4d46-915f-73ffed4ca1ca",
   "metadata": {},
   "outputs": [],
   "source": [
    "# barplot - AGE\n",
    "plt.figure(figsize=(15,4))\n",
    "ax = sns.countplot(data=df, x='AGEBIN', hue=\"RESPONSE\", order=agebin_order)\n",
    "\n",
    "plt.xlabel(\"Age Group\")\n",
    "plt.ylabel(\"# of Clients\")\n",
    "plt.ylim(0,8000)\n",
    "plt.show()"
   ]
  },
  {
   "cell_type": "code",
   "execution_count": null,
   "id": "d89bc7e9-2a3a-4de9-927f-7f4cb8637c0f",
   "metadata": {},
   "outputs": [],
   "source": [
    "# describe data - LIMIT BAL\n",
    "df[['LIMIT_BAL']].describe().T"
   ]
  },
  {
   "cell_type": "code",
   "execution_count": null,
   "id": "715505fd-462a-49fa-89b7-e7703dfb9c10",
   "metadata": {},
   "outputs": [],
   "source": [
    "# boxplot - LIMIT BAL\n",
    "plt.figure(figsize=(17,2))\n",
    "plt.title('Bill Amount')\n",
    "sns.boxplot(x=df['LIMIT_BAL'])"
   ]
  },
  {
   "cell_type": "code",
   "execution_count": null,
   "id": "2f0db84f-7234-4948-963f-0008144b17dc",
   "metadata": {},
   "outputs": [],
   "source": [
    "# kde dsitribution plot - LIMIT BAL\n",
    "plt.figure(figsize=(15,4))\n",
    "sns.kdeplot(df.loc[(df['RESPONSE']==0), 'LIMIT_BAL'], label='No Default', shade=True)\n",
    "sns.kdeplot(df.loc[(df['RESPONSE']==1), 'LIMIT_BAL'], label='Default', shade=True)\n",
    "plt.ticklabel_format(style='plain', axis='x') #repressing scientific notation on x\n",
    "plt.ylabel('Density')\n",
    "plt.legend()\n",
    "plt.show()"
   ]
  },
  {
   "cell_type": "code",
   "execution_count": null,
   "id": "17e27b9c-3f00-4d48-9328-63b2ca668f12",
   "metadata": {},
   "outputs": [],
   "source": [
    "# describe data - BILL AMT\n",
    "df[['BILL_AMT1', 'BILL_AMT2', 'BILL_AMT3', 'BILL_AMT4', 'BILL_AMT5', 'BILL_AMT6']].describe().T"
   ]
  },
  {
   "cell_type": "code",
   "execution_count": null,
   "id": "215ecafe-eb3e-4014-abed-ff5b91de8c2e",
   "metadata": {},
   "outputs": [],
   "source": [
    "# checking for outliers - BILL AMT\n",
    "df[(df[\"BILL_AMT1\"]<0) | (df[\"BILL_AMT2\"]<0) | (df[\"BILL_AMT3\"]<0) | (df[\"BILL_AMT4\"]<0) | (df[\"BILL_AMT5\"]<0) | (df[\"BILL_AMT6\"]<0)].shape[0]/30000 * 100"
   ]
  },
  {
   "cell_type": "code",
   "execution_count": null,
   "id": "399d2c25-efde-497d-bc7f-41779f56de48",
   "metadata": {},
   "outputs": [],
   "source": [
    "# boxplot - BILL AMT\n",
    "# melt transform from wide to long\n",
    "billamt_df = pd.melt(df, id_vars=['RESPONSE'], \n",
    "                         value_vars=['BILL_AMT1', 'BILL_AMT2', 'BILL_AMT3', 'BILL_AMT4', 'BILL_AMT5', 'BILL_AMT6'])\n",
    "\n",
    "# plot\n",
    "plt.figure(figsize=(17,9))\n",
    "plt.title('Bill Amount')\n",
    "sns.boxplot(data=billamt_df, x=\"value\", y=\"variable\", hue=\"RESPONSE\", gap=.1)"
   ]
  },
  {
   "cell_type": "code",
   "execution_count": null,
   "id": "7caa37a8-4848-4755-8118-2ce8f3b48970",
   "metadata": {},
   "outputs": [],
   "source": [
    "# null hypothesis: the mean BILL_AMTn for defaulters and non-defaulters are the same\n",
    "# alternative Hypothesis: the mean BILL_AMTn for defaulters and non-defaulters are different\n",
    "\n",
    "cols = ['BILL_AMT1', 'BILL_AMT2', 'BILL_AMT3', 'BILL_AMT4', 'BILL_AMT5', 'BILL_AMT6']\n",
    "\n",
    "for col in cols:\n",
    "    # create data sample\n",
    "    sample_0 = np.asarray(df[[col, 'RESPONSE']].query('RESPONSE == 0')[col].to_list())\n",
    "    sample_1 = np.asarray(df[[col, 'RESPONSE']].query('RESPONSE == 1')[col].to_list())\n",
    "\n",
    "    # define significance level\n",
    "    alpha = 0.05 \n",
    "\n",
    "    # test for equality of variances\n",
    "    lv = st.levene(sample_0, sample_1)\n",
    "    if lv.pvalue > alpha: param = True\n",
    "    else: param = False\n",
    "\n",
    "    # t-test for differences in sample mean\n",
    "    results = st.ttest_ind(sample_0, sample_1, equal_var=param)\n",
    "\n",
    "    # print results\n",
    "    print('p-value:', results.pvalue)\n",
    "    if results.pvalue < alpha: print(col, \" Reject the null hypothesis\")\n",
    "    else: print(col, \" Failed to reject null hypothesis\")"
   ]
  },
  {
   "cell_type": "code",
   "execution_count": null,
   "id": "8fe48a3a-f863-4776-8c1b-7db570cef107",
   "metadata": {},
   "outputs": [],
   "source": [
    "# describe data - PAY AMT\n",
    "df[['PAY_AMT1', 'PAY_AMT2', 'PAY_AMT3', 'PAY_AMT4', 'PAY_AMT5', 'PAY_AMT6']].describe().T"
   ]
  },
  {
   "cell_type": "code",
   "execution_count": null,
   "id": "dd152040-3526-4930-86a1-63643fae68ab",
   "metadata": {},
   "outputs": [],
   "source": [
    "# box and whiskers plot - PAY AMT\n",
    "# melt to transform from wide to long\n",
    "payamt_df = pd.melt(df, id_vars=['RESPONSE'],\n",
    "                        value_vars=['PAY_AMT1', 'PAY_AMT2', 'PAY_AMT3', 'PAY_AMT4', 'PAY_AMT5', 'PAY_AMT6'])\n",
    "\n",
    "# boxplot\n",
    "plt.figure(figsize=(17,9))\n",
    "plt.title('Pay Amount')\n",
    "sns.boxplot(data=payamt_df, \n",
    "            x=\"value\", \n",
    "            y=\"variable\", \n",
    "            hue=\"RESPONSE\")"
   ]
  },
  {
   "cell_type": "code",
   "execution_count": null,
   "id": "c0194e18-63af-4a7a-8b56-e402b5bcea60",
   "metadata": {},
   "outputs": [],
   "source": [
    "# null hypothesis: the mean PAY_AMTn for defaulters and non-defaulters are the same\n",
    "# alternative Hypothesis: the mean PAY_AMTn for defaulters and non-defaulters are different\n",
    "\n",
    "cols = ['PAY_AMT1', 'PAY_AMT2', 'PAY_AMT3', 'PAY_AMT4', 'PAY_AMT5', 'PAY_AMT6']\n",
    "\n",
    "for col in cols:\n",
    "    # create data sample\n",
    "    sample_0 = np.asarray(df[[col, 'RESPONSE']].query('RESPONSE == 0')[col].to_list())\n",
    "    sample_1 = np.asarray(df[[col, 'RESPONSE']].query('RESPONSE == 1')[col].to_list())\n",
    "\n",
    "    # define significance level\n",
    "    alpha = 0.05 \n",
    "\n",
    "    # test for equality of variances\n",
    "    lv = st.levene(sample_0, sample_1)\n",
    "    if lv.pvalue > alpha: param = True\n",
    "    else: param = False\n",
    "\n",
    "    # t-test for differences in sample mean\n",
    "    results = st.ttest_ind(sample_0, sample_1, equal_var=param)\n",
    "\n",
    "    # print results\n",
    "    print('p-value:', results.pvalue)\n",
    "    if results.pvalue < alpha: print(col, \" Reject the null hypothesis\")\n",
    "    else: print(col, \" Failed to reject null hypothesis\")"
   ]
  },
  {
   "cell_type": "markdown",
   "id": "c593c22c-0781-450e-93be-e6b2356d4431",
   "metadata": {},
   "source": [
    "***"
   ]
  },
  {
   "cell_type": "code",
   "execution_count": null,
   "id": "15db3660-8484-46c3-8d2f-afd41bebad27",
   "metadata": {},
   "outputs": [],
   "source": [
    "# export cleaned and processed data \n",
    "df.to_excel(\"/data/data_cleaned.xlsx\")"
   ]
  }
 ],
 "metadata": {
  "kernelspec": {
   "display_name": "Python 3 (ipykernel)",
   "language": "python",
   "name": "python3"
  },
  "language_info": {
   "codemirror_mode": {
    "name": "ipython",
    "version": 3
   },
   "file_extension": ".py",
   "mimetype": "text/x-python",
   "name": "python",
   "nbconvert_exporter": "python",
   "pygments_lexer": "ipython3",
   "version": "3.11.7"
  }
 },
 "nbformat": 4,
 "nbformat_minor": 5
}
