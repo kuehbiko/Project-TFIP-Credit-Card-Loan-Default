{
 "cells": [
  {
   "cell_type": "code",
   "execution_count": null,
   "id": "00fb0080-b0c2-400b-9c46-070ae50bba03",
   "metadata": {},
   "outputs": [],
   "source": [
    "# part 3 - clustering"
   ]
  },
  {
   "cell_type": "code",
   "execution_count": null,
   "id": "2a2a7952-40dd-43ef-90f6-89c1b61f3390",
   "metadata": {},
   "outputs": [],
   "source": [
    "# import data\n",
    "df = pd.read_excel()"
   ]
  },
  {
   "cell_type": "markdown",
   "id": "62cf4a07-0f7b-48ec-a870-bd11558d31f8",
   "metadata": {},
   "source": [
    "***"
   ]
  },
  {
   "cell_type": "code",
   "execution_count": null,
   "id": "924730a8-d363-45ea-8589-857fde311cd7",
   "metadata": {},
   "outputs": [],
   "source": [
    "X = df4[df4['RESPONSE']==1][['LIMIT_BAL', 'AGE', 'SEX', 'EDUCATION', 'MARRIAGE', 'BILL_AMT_TOTAL', 'PAY_AMT_TOTAL',\n",
    "                             'OUTS_AMT_TOTAL', 'PAST_DEFAULTS', 'EXCEED_LIMIT_BAL']]\n",
    "X_clustered = X.copy()\n",
    "X.head(1)"
   ]
  },
  {
   "cell_type": "code",
   "execution_count": null,
   "id": "82dd9cbb-e616-4725-b037-dc3dcbe672b9",
   "metadata": {},
   "outputs": [],
   "source": [
    "# data scaling\n",
    "num_col = X.select_dtypes(include=np.number).columns.tolist()\n",
    "\n",
    "# scaler\n",
    "scaler = MinMaxScaler()\n",
    "X[num_col] = scaler.fit_transform(X[num_col])"
   ]
  },
  {
   "cell_type": "code",
   "execution_count": null,
   "id": "abb262fb-268a-4821-a6f6-f1244ea39f32",
   "metadata": {},
   "outputs": [],
   "source": [
    "# finding best k\n",
    "cost = []\n",
    "sil = []\n",
    "\n",
    "k_range = range(2,10)\n",
    "for k in list(k_range):\n",
    "    kmodes = KModes(n_clusters=k, init=\"random\", n_init=5, random_state=42)\n",
    "    kmodes.fit_predict(X)\n",
    "    cost.append(kmodes.cost_)\n",
    "    sil.append(silhouette_score(X, kmodes.labels_))"
   ]
  },
  {
   "cell_type": "code",
   "execution_count": null,
   "id": "79974680-54eb-48b4-8d84-18bd7ef4de96",
   "metadata": {},
   "outputs": [],
   "source": [
    "# plot\n",
    "plt.plot(k_range, cost, 'bx-')\n",
    "plt.xlabel('No. of clusters')\n",
    "plt.ylabel('Cost')\n",
    "plt.title('Elbow Method For Optimal k')\n",
    "plt.show()"
   ]
  },
  {
   "cell_type": "code",
   "execution_count": null,
   "id": "f4fd85c4-90d5-4c7f-8a5a-6917d8d71bc9",
   "metadata": {},
   "outputs": [],
   "source": [
    "# silhouette plot\n",
    "plt.plot(k_range, sil, 'bx-')\n",
    "plt.xlabel('No. of clusters')\n",
    "plt.ylabel('Cost')\n",
    "plt.title('Silhouette score against K')\n",
    "plt.show()"
   ]
  },
  {
   "cell_type": "markdown",
   "id": "f5def875-3ab2-4e18-a5e2-16eb137d263b",
   "metadata": {},
   "source": [
    "***"
   ]
  },
  {
   "cell_type": "code",
   "execution_count": null,
   "id": "7aab0906-12ae-4ee0-b317-6a7af195b8cd",
   "metadata": {},
   "outputs": [],
   "source": [
    "# build a model with 4 clusters\n",
    "kmode = KModes(n_clusters=4, init='random', n_init=5, verbose=1)\n",
    "clusters = kmode.fit_predict(X)\n",
    "clusters"
   ]
  },
  {
   "cell_type": "code",
   "execution_count": null,
   "id": "5303e3a4-e601-4c5e-9953-0dc64e4cfff7",
   "metadata": {},
   "outputs": [],
   "source": [
    "X_clustered['CLUSTER'] = clusters\n",
    "X_clustered"
   ]
  },
  {
   "cell_type": "code",
   "execution_count": null,
   "id": "f098d8e4-ae76-48ff-a4c3-58ce226c30ee",
   "metadata": {},
   "outputs": [],
   "source": [
    "X_clustered['CLUSTER'].value_counts()"
   ]
  },
  {
   "cell_type": "code",
   "execution_count": null,
   "id": "b7aa9939-d510-4190-97be-5cbebe24ef20",
   "metadata": {},
   "outputs": [],
   "source": [
    "# we have to map the indexes back to the original unscaled dataframe to do some data exploration\n",
    "cluster1_index = X_clustered[X_clustered['CLUSTER']==0].index\n",
    "cluster2_index = X_clustered[X_clustered['CLUSTER']==1].index\n",
    "cluster3_index = X_clustered[X_clustered['CLUSTER']==2].index\n",
    "cluster4_index = X_clustered[X_clustered['CLUSTER']==3].index\n",
    "\n",
    "cluster1 = X_clustered[X_clustered.index.isin(cluster1_index)]\n",
    "cluster2 = X_clustered[X_clustered.index.isin(cluster2_index)]\n",
    "cluster3 = X_clustered[X_clustered.index.isin(cluster3_index)]\n",
    "cluster4 = X_clustered[X_clustered.index.isin(cluster4_index)]"
   ]
  },
  {
   "cell_type": "code",
   "execution_count": null,
   "id": "f781db39-629b-478d-8d3f-8c229c72475e",
   "metadata": {},
   "outputs": [],
   "source": [
    "cluster1.head()"
   ]
  },
  {
   "cell_type": "code",
   "execution_count": null,
   "id": "fdee33d7-3351-4dde-943a-65149932c77a",
   "metadata": {},
   "outputs": [],
   "source": [
    "# cluster 1 - descriptive statistics\n",
    "round(cluster1.describe().T,2)"
   ]
  },
  {
   "cell_type": "code",
   "execution_count": null,
   "id": "89436ce8-0a00-4e23-bd51-54e7fcc34c4c",
   "metadata": {},
   "outputs": [],
   "source": [
    "limit_bal_med = [cluster1['LIMIT_BAL'].median(), cluster2['LIMIT_BAL'].median(), cluster3['LIMIT_BAL'].median(), cluster4['LIMIT_BAL'].median()]\n",
    "age_med = [cluster1['AGE'].median(), cluster2['AGE'].median(), cluster3['AGE'].median(), cluster4['AGE'].median()]\n",
    "bill_amt_total_med = [cluster1['BILL_AMT_TOTAL'].median(), cluster2['BILL_AMT_TOTAL'].median(), cluster3['BILL_AMT_TOTAL'].median(), cluster4['BILL_AMT_TOTAL'].median()]\n",
    "pay_amt_total_med = [cluster1['PAY_AMT_TOTAL'].median(), cluster2['PAY_AMT_TOTAL'].median(), cluster3['PAY_AMT_TOTAL'].median(), cluster4['PAY_AMT_TOTAL'].median()]\n",
    "outs_amt_total_med = [cluster1['OUTS_AMT_TOTAL'].median(), cluster2['OUTS_AMT_TOTAL'].median(), cluster3['OUTS_AMT_TOTAL'].median(), cluster4['OUTS_AMT_TOTAL'].median()]\n",
    "past_defaults_med = [cluster1['PAST_DEFAULTS'].median(), cluster2['PAST_DEFAULTS'].median(), cluster3['PAST_DEFAULTS'].median(), cluster4['PAST_DEFAULTS'].median()]\n",
    "exceed_limit_bal_med = [cluster1['EXCEED_LIMIT_BAL'].median(), cluster2['EXCEED_LIMIT_BAL'].median(), cluster3['EXCEED_LIMIT_BAL'].median(), cluster4['EXCEED_LIMIT_BAL'].median()]\n",
    "sex_mode = [cluster1['SEX'].mode().tolist()[0], cluster2['SEX'].mode().tolist()[0], cluster3['SEX'].mode().tolist()[0], cluster4['SEX'].mode().tolist()[0]]\n",
    "education_mode = [cluster1['EDUCATION'].mode().tolist()[0], cluster2['EDUCATION'].mode().tolist()[0], cluster3['EDUCATION'].mode().tolist()[0], cluster4['EDUCATION'].mode().tolist()[0]]\n",
    "marriage_mode = [cluster1['MARRIAGE'].mode().tolist()[0], cluster2['MARRIAGE'].mode().tolist()[0], cluster3['MARRIAGE'].mode().tolist()[0], cluster4['MARRIAGE'].mode().tolist()[0]]"
   ]
  },
  {
   "cell_type": "code",
   "execution_count": null,
   "id": "08d09389-626b-40fc-96e2-7fcdc01145a7",
   "metadata": {},
   "outputs": [],
   "source": [
    "cluster_characteristics = pd.DataFrame(data = {\"CLUSTER\" : range(1,5),\n",
    "                                               \"LIMIT_BAL\" : limit_bal_med,\n",
    "                                               \"AGE\"       : age_med,\n",
    "                                               \"BILL_AMT_TOTAL\" : bill_amt_total_med,\n",
    "                                               \"PAY_AMT_TOTAL\" : pay_amt_total_med,\n",
    "                                               \"OUTS_AMT_TOTAL\": outs_amt_total_med,\n",
    "                                               \"PAST_DEFAULTS\" : past_defaults_med,\n",
    "                                               \"EXCEED_LIMIT_BAL\" : exceed_limit_bal_med,\n",
    "                                               \"SEX\" : sex_mode,\n",
    "                                               \"EDUCATION\" : education_mode,\n",
    "                                               \"MARRIAGE\" : marriage_mode})\n",
    "cluster_characteristics"
   ]
  }
 ],
 "metadata": {
  "kernelspec": {
   "display_name": "Python 3 (ipykernel)",
   "language": "python",
   "name": "python3"
  },
  "language_info": {
   "codemirror_mode": {
    "name": "ipython",
    "version": 3
   },
   "file_extension": ".py",
   "mimetype": "text/x-python",
   "name": "python",
   "nbconvert_exporter": "python",
   "pygments_lexer": "ipython3",
   "version": "3.11.7"
  }
 },
 "nbformat": 4,
 "nbformat_minor": 5
}
